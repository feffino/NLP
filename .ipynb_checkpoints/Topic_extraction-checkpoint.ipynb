{
 "cells": [
  {
   "cell_type": "markdown",
   "metadata": {},
   "source": [
    "# Estrazione dei Topic\n",
    "\n",
    "### Utilizziamo uno dei dataset disponibili nel pacchetto di Scikit-Learn, 20 newsgroups, una raccolta di migliaia di post appartenenti a 20 categorie diverse di news, per testare la NMF (Non-negative Matrix Factorization) nell'estrazione dei principali topic, senza l'utilizzo dei label. "
   ]
  },
  {
   "cell_type": "code",
   "execution_count": 11,
   "metadata": {},
   "outputs": [],
   "source": [
    "import numpy as np\n",
    "from sklearn.feature_extraction import text\n",
    "from sklearn import datasets, decomposition\n",
    "import random"
   ]
  },
  {
   "cell_type": "code",
   "execution_count": 12,
   "metadata": {},
   "outputs": [],
   "source": [
    "n_samples = 1000 # numero di documenti con cui addestrare il modello \n",
    "n_features = 1000 # numero di feature da estrarre da ogni documento\n",
    "n_topics = 20 # numero di topic da estrarre\n",
    "n_top_words = 20 # numero di parole più significative rappresentative dei topic"
   ]
  },
  {
   "cell_type": "code",
   "execution_count": 13,
   "metadata": {},
   "outputs": [],
   "source": [
    "# carico i dati\n",
    "\n",
    "dataset = datasets.fetch_20newsgroups(shuffle=True, random_state=1)"
   ]
  },
  {
   "cell_type": "code",
   "execution_count": 14,
   "metadata": {},
   "outputs": [
    {
     "name": "stdout",
     "output_type": "stream",
     "text": [
      "il dataset è composto da 11314 documenti\n"
     ]
    }
   ],
   "source": [
    "# vediamo quanti documenti ci sono nel dataset e quali sono le categorie\n",
    "\n",
    "print(\"il dataset è composto da {} documenti\".format(len(dataset[\"data\"])))"
   ]
  },
  {
   "cell_type": "code",
   "execution_count": 15,
   "metadata": {},
   "outputs": [
    {
     "name": "stdout",
     "output_type": "stream",
     "text": [
      "alt.atheism\n",
      "comp.graphics\n",
      "comp.os.ms-windows.misc\n",
      "comp.sys.ibm.pc.hardware\n",
      "comp.sys.mac.hardware\n",
      "comp.windows.x\n",
      "misc.forsale\n",
      "rec.autos\n",
      "rec.motorcycles\n",
      "rec.sport.baseball\n",
      "rec.sport.hockey\n",
      "sci.crypt\n",
      "sci.electronics\n",
      "sci.med\n",
      "sci.space\n",
      "soc.religion.christian\n",
      "talk.politics.guns\n",
      "talk.politics.mideast\n",
      "talk.politics.misc\n",
      "talk.religion.misc\n"
     ]
    }
   ],
   "source": [
    "# vediamo quali sono le categorie di appartenenza dei post\n",
    "\n",
    "for target in dataset[\"target_names\"]:\n",
    "    print(target)"
   ]
  },
  {
   "cell_type": "code",
   "execution_count": 16,
   "metadata": {},
   "outputs": [
    {
     "name": "stdout",
     "output_type": "stream",
     "text": [
      "From: janzen@lichen.mpr.ca (Martin Janzen)\n",
      "Subject: Re: how to put RPC in HP X/motif environment?\n",
      "Nntp-Posting-Host: lichen\n",
      "Reply-To: janzen@mprgate.mpr.ca\n",
      "Organization: MPR Teltech Ltd.\n",
      "Lines: 30\n",
      "\n",
      "In article <C5r03J.Gu3@news2.cis.umn.edu>, ianhogg@milli.cs.umn.edu (Ian J. Hogg) writes:\n",
      ">In article <1993Apr19.200740.17615@sol.ctr.columbia.edu> nchan@nova.ctr.columbia.edu (Nui Chan) writes:\n",
      ">>has anybody implements an RPC server in the HP Xwindows? In SUN Xview, there\n",
      ">>is a notify_enable_rpc_svc() call that automatically executes the rpc processes\n",
      ">>when it detects an incoming request. I wonder if there is a similar function in\n",
      ">>HP X/motif that perform the same function.\n",
      ">\n",
      ">I've been using the xrpc package for about a year now.  I believe I got it from\n",
      ">export.  \n",
      "\n",
      "Glad to hear that it's working for you!\n",
      "\n",
      "I couldn't find it on \"export\".  However, Simon Leinen\n",
      "<simon@liasun6.epfl.ch> has added an Imakefile and an Athena\n",
      "version, and made it available for FTP in the file\n",
      "liasun3.epfl.ch:/pub/X/contrib/xrpc.tar.z.  (Note the \".z\"\n",
      "suffix; you'll need GNU gzip -- also on liasun3 in /pub/gnu --\n",
      "to uncompress it.)  \n",
      "\n",
      "If this doesn't work, send me a note and I'd be happy to mail you\n",
      "a copy; but you probably won't get it until the start of May --\n",
      "I'm on holidays as of tomorrow! :-)\n",
      "\n",
      "-- \n",
      "Martin Janzen  janzen@mprgate.mpr.ca (134.87.131.13)\n",
      "MPR Teltech Ltd.  8999 Nelson Way  Burnaby, BC, CANADA  V5A 4B5\n",
      "\n",
      "\n",
      "P.S. Are there any Dublin X folks that want to go for a pint of\n",
      "Guinness at, say, Mulligan's...?\n",
      "\n",
      "-----------------------------------------------------------------------------------------------------------\n",
      "-----------------------------------------------------------------------------------------------------------\n",
      "-----------------------------------------------------------------------------------------------------------\n",
      "\n",
      " From: sun075!Gerry.Palo@uunet.uu.net (Gerry Palo)\n",
      "Subject: Re: Christianity and repeated lives\n",
      "Lines: 84\n",
      "\n",
      "In article <May.5.02.52.15.1993.28800@athos.rutgers.edu> JEK@cu.nih.gov writes:\n",
      ">Gerry Palo writes:\n",
      ">\n",
      "> > ...there is nothing in Christianity that precludes the idea of\n",
      "> > repeated lives on earth.\n",
      ">\n",
      ">The Apostle Paul (Romans 9:11) points out that God chose Jacob\n",
      ">rather than Esau to be the ancestor of the Covenant People and\n",
      ">ultimately of the Messiah, and that He made this choice while the\n",
      ">two boys were still in their mother's womb, and therefore could not\n",
      ">possibly have done anything good or evil to deserve their appointed\n",
      ">destinies. If we admit the possibility that they had lived previous\n",
      ">lives, and that (in accordance with the Asiatic idea of \"karma\")\n",
      ">their present lives are a reward or punishment for past behaviour,\n",
      ">this makes nonsense of Paul's whole point.\n",
      ">\n",
      "\n",
      "The existence of repeated earth lives and destiny (karma) does not\n",
      "mean that everything that happens is predetermined by past deeds.\n",
      "There is an oriental view of it that tends in that direction, but I\n",
      "did not subscribe to that view.  God may choose one individual over\n",
      "another as the fit instrument for his plans, but that does not\n",
      "preclude that the development of that individual into what he is in\n",
      "this earthly life is not the result of a longer course of development.\n",
      "\n",
      "I do not, and Rudolf Steiner did not, subscribe to the oriental view\n",
      "of an inexorable, mechanistic karma determining everything that\n",
      "befalls one.  This is a kind of shriveled caricature of a much greater\n",
      "law in the context of which the deed of Christ on Golgotha and the\n",
      "ultimate salvation and freedom of the human being as a working of\n",
      "Christ can be seen as the master theme and, indeed, a new impulse that\n",
      "was completely free of karma.  Christ incarnated only once in the\n",
      "flesh, and in that he had no debt of karma or sin.  The oriental\n",
      "concepts of reincarnation and karma, which are even more trivialized\n",
      "and mechanized in some new age teachings, incorrectly assume Jesus\n",
      "Christ to have been the reincarnation of a master.  avatar, etc.\n",
      "Their teaching of reincarnation and karma also has no concept the\n",
      "continuing individuality from one life to the next (e.g. Buddhism).\n",
      "More important, they have no concept of the resurrection of the body,\n",
      "the ultimate continuity of the whole human being -- to ultimate\n",
      "resurrection and judgement on the Last Day.\n",
      "\n",
      "There is another biblical passage that also has a bearing. It is the\n",
      "tenth chapter of John, devoted almost entirely to the man born blind.\n",
      "Clearly here, Jesus tells the disciples that it was not his past karma\n",
      "or that of his parents that led to his blindness, but rather that a\n",
      "new impulse is to be revealed through him.  But note that he does not\n",
      "refute the disciples' question.  In fact, they ask it as a matter of\n",
      "course, the question being stated as if it were self evident that only\n",
      "one of two possibilities existed - it was either the sins of the man\n",
      "himself, obviously not in this incarnation, or the sins of his\n",
      "parents.  The fact that they even asked about the first possibility at\n",
      "all indicates an awareness of the idea on their part and the form of\n",
      "Christ's answer indicates that he did not disagree with it.\n",
      "\n",
      "There is also Matthew 11:14, where Jesus says straight out about John\n",
      "the Baptist,\n",
      "\n",
      "   \"If you care to accept it, he himself is Elias, who was to come.\"\n",
      "\n",
      "This also emphasizes that the Gospels do not have a positive teaching\n",
      "either way about reincarnation -- or, in fact, about what happens to\n",
      "the human being at all between death and the Last Day.  Even Jesus did\n",
      "not push this teaching on people who were not ready to embrace it (\"If\n",
      "you care to accept it\").  So I took care to point out, not that the\n",
      "Bible teaches reincarnation but that it does not deny it either, and\n",
      "that much in both scripture and fundamental Christian doctrine becomes\n",
      "understandable if reincarnation is understood in the right way.  I\n",
      "pointedly used \"repeated earth lives\" to distinguish a little from the\n",
      "oriental doctrines usually associated with the word \"reincarnation\".\n",
      "The phrase is Rudolf Steiner's (wiederholte Erdenleben).  He noted too\n",
      "that the idea needed to arise as a new insight in the west, completely\n",
      "free from eastern tradition.  It did in the eighteenth and nineteenth\n",
      "centuries, the most important expression of it being Lessing's \"The\n",
      "Education of the Human Race\".\n",
      "\n",
      "To return to your original point, Paul's statement about Jacob and\n",
      "Esau does not contradict the idea of repeated earth lives and karma.\n",
      "And both of these principles receive their fulfillment in the\n",
      "incarnation, death, and resurrection, ascension and return of Jesus\n",
      "Christ, in my view.\n",
      "\n",
      "Regards, \n",
      "Gerry Palo (73237.2006@compuserve.com)\n",
      "\n"
     ]
    }
   ],
   "source": [
    "# vediamo come sono fatti i documenti\n",
    "\n",
    "print(dataset[\"data\"][1000])\n",
    "print(\"-----------------------------------------------------------------------------------------------------------\")\n",
    "print(\"-----------------------------------------------------------------------------------------------------------\")\n",
    "print(\"-----------------------------------------------------------------------------------------------------------\")\n",
    "print(\"\\n\",dataset[\"data\"][510])"
   ]
  },
  {
   "cell_type": "code",
   "execution_count": 17,
   "metadata": {},
   "outputs": [
    {
     "name": "stdout",
     "output_type": "stream",
     "text": [
      "la matrice di partenza ha dimensioni (1000, 1000)\n"
     ]
    }
   ],
   "source": [
    "# estrazione delle features utilizzando le 1000 parole più comuni (max_features=1000)\n",
    "# escludo le parole che son presenti in più del 95% dei documenti\n",
    "# normalizzazione TF-IDF\n",
    "\n",
    "vectorizer = text.CountVectorizer(max_df=0.95, max_features=n_features,stop_words='english')\n",
    "counts = vectorizer.fit_transform(dataset.data[:n_samples])\n",
    "tfidf = text.TfidfTransformer().fit_transform(counts)\n",
    "\n",
    "print(\"la matrice di partenza ha dimensioni {}\".format(tfidf.shape))"
   ]
  },
  {
   "cell_type": "code",
   "execution_count": 18,
   "metadata": {},
   "outputs": [
    {
     "name": "stdout",
     "output_type": "stream",
     "text": [
      "ho fattorizzato la matrice in H di dimensioni (1000, 20) e W di dimensioni (20, 1000)\n"
     ]
    }
   ],
   "source": [
    "# Fit del modello NMF\n",
    "\n",
    "nmf = decomposition.NMF(n_components=n_topics)\n",
    "W = nmf.fit_transform(tfidf)\n",
    "H = nmf.components_\n",
    "\n",
    "print(\"ho fattorizzato la matrice in H di dimensioni {} e W di dimensioni {}\".format(W.shape,H.shape))"
   ]
  },
  {
   "cell_type": "code",
   "execution_count": 19,
   "metadata": {},
   "outputs": [
    {
     "name": "stdout",
     "output_type": "stream",
     "text": [
      "general\n",
      "years\n",
      "bob\n",
      "mary\n",
      "designed\n",
      "video\n",
      "original\n",
      "30\n",
      "previous\n",
      "pc\n",
      "uni\n",
      "jews\n",
      "uunet\n",
      "keith\n",
      "left\n",
      "second\n",
      "win\n",
      "ms\n",
      "worked\n",
      "wpi\n"
     ]
    }
   ],
   "source": [
    "# stampiano alcune delle parole estratte\n",
    "\n",
    "feature_names = vectorizer.get_feature_names()\n",
    "for i in range(20):\n",
    "    print(random.choice(feature_names))"
   ]
  },
  {
   "cell_type": "code",
   "execution_count": 20,
   "metadata": {},
   "outputs": [
    {
     "name": "stdout",
     "output_type": "stream",
     "text": [
      "Topic #0:\n",
      "people don like just think know good way time better say ve want ll thing things make government right use \n",
      "\n",
      "Topic #1:\n",
      "edu university cc article posting host uiuc nntp writes state washington cso virginia distribution michael rochester berkeley csd news reply \n",
      "\n",
      "Topic #2:\n",
      "com netcom writes article stratus sun news jim portal corp att posting distribution reply systems uunet nntp world host support \n",
      "\n",
      "Topic #3:\n",
      "mit file help thanks color lcs hi problem image information internet send computer version faq program edu book ftp mail \n",
      "\n",
      "Topic #4:\n",
      "clipper key chip encryption government keys public secure enforcement secret house brad algorithm use standard phone law na communications security \n",
      "\n",
      "Topic #5:\n",
      "nasa gov space jpl center research moon shuttle program laboratory brian distribution world posting nntp host data 25 long running \n",
      "\n",
      "Topic #6:\n",
      "uk ac university posting ___ sun host nntp thanks writes dc __ return sorry college united wrong application computing advance \n",
      "\n",
      "Topic #7:\n",
      "game ca team baseball leafs win year player players wings cs fans roger cup season canada fan did toronto play \n",
      "\n",
      "Topic #8:\n",
      "keith caltech objective morality institute california technology edu political moral think sgi natural nntp host jon posting years mail don \n",
      "\n",
      "Topic #9:\n",
      "israel israeli lebanese arab jews peace soldiers org policy attacks true land state say center west questions fact killed killing \n",
      "\n",
      "Topic #10:\n",
      "pitt gordon banks cs edu pittsburgh science blood soon univ computer medical reply article david citizens uucp writes apply scott \n",
      "\n",
      "Topic #11:\n",
      "windows dos drivers window driver os ms use software application screen files using video applications pc program file att motif \n",
      "\n",
      "Topic #12:\n",
      "car cars bike insurance power ca good buy engine acs state year like new small buying ohio just stop going \n",
      "\n",
      "Topic #13:\n",
      "henry toronto space umd software alaska eng access edu shuttle org work level command pat article launch writes earth george \n",
      "\n",
      "Topic #14:\n",
      "drive disk scsi card controller cache mac problem drives robert hard pc cable ram monitor 16 memory computer speed power \n",
      "\n",
      "Topic #15:\n",
      "hp com printer division dave corp colorado posting nntp host ve paul 500 port bitnet al west server gun tin \n",
      "\n",
      "Topic #16:\n",
      "sale 00 interested offer card software contact brian mail 10 excellent sell distribution tape 12 price printer ny harvard baseball \n",
      "\n",
      "Topic #17:\n",
      "god bible jesus christian christians christ life faith religion mary christianity belief people believe evil church good human children does \n",
      "\n",
      "Topic #18:\n",
      "andrew cmu pittsburgh team edu john se harvard actually duke season robert gmt michael apr 1993 reply wasn writes play \n",
      "\n",
      "Topic #19:\n",
      "cwru cleveland western edu ohio case usa robert student apple host vram university nntp posting reply power john monitor usenet \n",
      "\n"
     ]
    }
   ],
   "source": [
    "# infine stampiamo le parole più rappresentative dei 20 topic estratti\n",
    "\n",
    "for i, topic in enumerate(H):\n",
    "    print(\"Topic #{}:\".format(i))\n",
    "    print(\" \".join([feature_names[i] for i in topic.argsort()[:-n_top_words - 1:-1]]), \"\\n\")"
   ]
  }
 ],
 "metadata": {
  "kernelspec": {
   "display_name": "Python 3",
   "language": "python",
   "name": "python3"
  },
  "language_info": {
   "codemirror_mode": {
    "name": "ipython",
    "version": 3
   },
   "file_extension": ".py",
   "mimetype": "text/x-python",
   "name": "python",
   "nbconvert_exporter": "python",
   "pygments_lexer": "ipython3",
   "version": "3.7.1"
  }
 },
 "nbformat": 4,
 "nbformat_minor": 2
}
