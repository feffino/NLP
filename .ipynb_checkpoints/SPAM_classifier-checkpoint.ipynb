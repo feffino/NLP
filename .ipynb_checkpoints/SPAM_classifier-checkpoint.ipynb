{
 "cells": [
  {
   "cell_type": "markdown",
   "metadata": {},
   "source": [
    "# Classificatore dello SPAM\n",
    "\n",
    "### Utilizziamo il dataset disponibile sul sito http://archive.ics.uci.edu/ml/datasets/SMS+Spam+Collection per creare un classificatore per lo spam, ovvero un modello di machine learning in grado di distinugere messaggi normali da messaggi che contengono SPAM"
   ]
  },
  {
   "cell_type": "code",
   "execution_count": 9,
   "metadata": {},
   "outputs": [],
   "source": [
    "import numpy as np\n",
    "import matplotlib.pyplot as plt\n",
    "from sklearn.feature_extraction.text import CountVectorizer, TfidfTransformer\n",
    "from sklearn.naive_bayes import MultinomialNB\n",
    "from sklearn.model_selection import cross_val_score\n",
    "import random"
   ]
  },
  {
   "cell_type": "code",
   "execution_count": 3,
   "metadata": {},
   "outputs": [
    {
     "name": "stdout",
     "output_type": "stream",
     "text": [
      "message: Go until jurong point, crazy.. Available only in bugis n great world la e buffet... Cine there got amore wat...\n",
      "category: ham\n",
      "\n",
      "message: Ok lar... Joking wif u oni...\n",
      "category: ham\n",
      "\n",
      "message: Free entry in 2 a wkly comp to win FA Cup final tkts 21st May 2005. Text FA to 87121 to receive entry question(std txt rate)T&C's apply 08452810075over18's\n",
      "category: spam\n",
      "\n",
      "message: U dun say so early hor... U c already then say...\n",
      "category: ham\n",
      "\n",
      "message: Nah I don't think he goes to usf, he lives around here though\n",
      "category: ham\n",
      "\n"
     ]
    }
   ],
   "source": [
    "messages = []\n",
    "categories = []\n",
    "for line in open(\"smsdata.txt\"):\n",
    "    category, message = line.split('\\t')\n",
    "    messages.append(message)\n",
    "    categories.append(category)\n",
    "\n",
    "for i in range(5):\n",
    "    print(\"message: {}\".format(messages[i][:-1]))\n",
    "    print(\"category: {}\\n\".format(categories[i]))"
   ]
  },
  {
   "cell_type": "code",
   "execution_count": 5,
   "metadata": {},
   "outputs": [
    {
     "name": "stdout",
     "output_type": "stream",
     "text": [
      "spam: 747\n",
      "non spam: 4827\n",
      "total: 5574\n",
      "\n"
     ]
    }
   ],
   "source": [
    "# creo l'array in i label (spam, ham) dei messaggi\n",
    "y_train = np.array([0 if item==\"ham\" else 1 for item in categories])\n",
    "\n",
    "print(\"spam: {}\".format((y_train==1).sum()))\n",
    "print(\"non spam: {}\".format((y_train==0).sum()))\n",
    "print(\"total: {}\\n\".format(len(y_train)))"
   ]
  },
  {
   "cell_type": "code",
   "execution_count": 6,
   "metadata": {},
   "outputs": [
    {
     "name": "stdout",
     "output_type": "stream",
     "text": [
      "sono state individuate 76376 sequenze\n"
     ]
    }
   ],
   "source": [
    "# cerco tutte le sequenze di caratteri che iniziano con uno spazio e continuano con almeno 3 caratteri alfabetici,\n",
    "# ad esempio le parole \" ciao\", \" mi\", \" chiamo\", \" Federico\" triggerano il count vectorizer. Le parentesi tonde \n",
    "# permettono di escludere lo spazio\n",
    "pattern ='\\s([A-Za-z]{3,})'\n",
    "\n",
    "# ngram_range=(1,3) indica che sto selezionando tutte le sequenze di parole lunghe da 1 a 3 \n",
    "cv = CountVectorizer(stop_words=None, token_pattern=pattern,\n",
    "                     ngram_range=(1, 3))\n",
    "\n",
    "C = cv.fit_transform(messages) \n",
    "\n",
    "print(\"sono state individuate {} sequenze\".format(C.shape[1]))"
   ]
  },
  {
   "cell_type": "code",
   "execution_count": 11,
   "metadata": {},
   "outputs": [
    {
     "name": "stdout",
     "output_type": "stream",
     "text": [
      "thing its\n",
      "still got\n",
      "just eat\n",
      "corrupt\n",
      "bcums angry wid\n",
      "vijay going talk\n",
      "didn sleep\n",
      "religiously\n",
      "well please\n",
      "with your smile\n",
      "heart for you\n",
      "tones txt more\n",
      "would but still\n",
      "stay chat\n",
      "has been verified\n",
      "have very\n",
      "teaches choose\n",
      "goal now\n",
      "din lock\n",
      "you whenever\n"
     ]
    }
   ],
   "source": [
    "# stampiamo alcune delle sequenze individuate per vedere come sono fatte\n",
    "for i in range(20):\n",
    "    print(random.choice(list(cv.vocabulary_.keys())))"
   ]
  },
  {
   "cell_type": "code",
   "execution_count": 73,
   "metadata": {},
   "outputs": [
    {
     "name": "stdout",
     "output_type": "stream",
     "text": [
      "X_train ha dimensioni (5574, 76376)\n",
      "y_train è un array di categorie [0 0 1 ... 0 0 0] lunga 5574\n"
     ]
    }
   ],
   "source": [
    "# sublinear_tf=True determina il calcolo della tf (term frequency) in questo modo:\n",
    "# tf(t,d) = log(f(t,d)+1) invece che semplicemente tf(t,d)=f(t,d)\n",
    "tfidf = TfidfTransformer(sublinear_tf=True)\n",
    "    \n",
    "#calculate features using tf-idf and create a training set \n",
    "X_train = tfidf.fit_transform(C)\n",
    "\n",
    "print(\"X_train ha dimensioni {}\".format(X_train.shape))\n",
    "print(\"y_train è un array di categorie {} lunga {}\".format(y_train,len(y_train)))"
   ]
  },
  {
   "cell_type": "code",
   "execution_count": 80,
   "metadata": {},
   "outputs": [
    {
     "data": {
      "text/plain": [
       "MultinomialNB(alpha=1.0, class_prior=None, fit_prior=True)"
      ]
     },
     "execution_count": 80,
     "metadata": {},
     "output_type": "execute_result"
    }
   ],
   "source": [
    "# addestro il classificatore Multinomial Naive Bayes\n",
    "clf = MultinomialNB()\n",
    "clf.fit(X_train, y_train)"
   ]
  },
  {
   "cell_type": "code",
   "execution_count": 83,
   "metadata": {},
   "outputs": [
    {
     "name": "stdout",
     "output_type": "stream",
     "text": [
      "I messaggi sono stati classificati come: ['ham', 'ham', 'ham', 'ham', 'ham']\n"
     ]
    }
   ],
   "source": [
    "# creo dei messaggi con cui testare il modello\n",
    "test_messages = [\"Call MobilesDirect free on 08000938767 to update now! or2stoptxt\",\n",
    "                 \"Call now for a free trial offer!\",\n",
    "                 \"Hey Sam, want to get some pizza later?\",\n",
    "                 \"idk my bff jill?\",\n",
    "                 \"Free later for a beer? Call me now!\"]\n",
    "                 \n",
    "# estraggo le features dai messaggi\n",
    "C_test = cv.transform(test_messages)\n",
    "X_test = tfidf.transform(C_test)\n",
    " \n",
    "# testo il modello sui messaggi di prova\n",
    "print(\"I messaggi sono stati classificati come: {}\".format([\"ham\" if i==0 else \"spam\" for i in clf.predict(X_test)]))"
   ]
  },
  {
   "cell_type": "code",
   "execution_count": 88,
   "metadata": {},
   "outputs": [
    {
     "name": "stdout",
     "output_type": "stream",
     "text": [
      "0.2682695795279725\n"
     ]
    }
   ],
   "source": [
    "# cerchiamo il miglior parametro alpha per il modello MultinomialNB\n",
    "# utilizziamo la 10-fold cross validation\n",
    "\n",
    "alphas = np.logspace(-4,0,50)\n",
    "model = MultinomialNB()\n",
    "scores = []\n",
    "\n",
    "for alpha in alphas:\n",
    "    model.alpha = alpha\n",
    "    cv_scores = cross_val_score(model, X_train, y_train,cv = 10)\n",
    "    scores.append(np.mean(cv_scores))\n",
    "    best_alpha = alphas[np.argmax(scores)]\n",
    "    \n",
    "print(best_alpha)"
   ]
  },
  {
   "cell_type": "code",
   "execution_count": 112,
   "metadata": {},
   "outputs": [
    {
     "data": {
      "image/png": "[encoded data removed]",
      "text/plain": [
       "<Figure size 432x288 with 1 Axes>"
      ]
     },
     "metadata": {
      "needs_background": "light"
     },
     "output_type": "display_data"
    }
   ],
   "source": [
    "line = plt.axvline(x=best_alpha,linestyle=\"--\",color=\"red\",label=\"best_alpha: {:.3f}\".format(best_alpha))\n",
    "legend = plt.legend()\n",
    "plot = plt.semilogx(alphas,scores)\n",
    "grid = plt.grid()\n",
    "plt.show()"
   ]
  },
  {
   "cell_type": "code",
   "execution_count": 114,
   "metadata": {},
   "outputs": [
    {
     "name": "stdout",
     "output_type": "stream",
     "text": [
      "Call MobilesDirect free on 08000938767 to update now! or2stoptxt\n",
      "Call now for a free trial offer!\n",
      "Hey Sam, want to get some pizza later?\n",
      "idk my bff jill?\n",
      "Free later for a beer? Call me now!\n",
      "\n",
      "I messaggi sono stati classificati come: ['spam', 'spam', 'ham', 'ham', 'ham']\n"
     ]
    }
   ],
   "source": [
    "# Riaddestro il modello utilizzando il miglior parametro alpha trovato\n",
    "\n",
    "clf = MultinomialNB()\n",
    "clf.alpha = best_alpha\n",
    "clf.fit(X_train, y_train)\n",
    "\n",
    "C_test = cv.transform(test_messages)\n",
    "X_test = tfidf.transform(C_test)\n",
    "\n",
    "for message in test_messages:\n",
    "    print(message)\n",
    "print(\"\\nI messaggi sono stati classificati come: {}\".format([\"ham\" if i==0 else \"spam\" for i in clf.predict(X_test)]))"
   ]
  },
  {
   "cell_type": "code",
   "execution_count": null,
   "metadata": {},
   "outputs": [],
   "source": []
  }
 ],
 "metadata": {
  "kernelspec": {
   "display_name": "Python 3",
   "language": "python",
   "name": "python3"
  },
  "language_info": {
   "codemirror_mode": {
    "name": "ipython",
    "version": 3
   },
   "file_extension": ".py",
   "mimetype": "text/x-python",
   "name": "python",
   "nbconvert_exporter": "python",
   "pygments_lexer": "ipython3",
   "version": "3.7.1"
  }
 },
 "nbformat": 4,
 "nbformat_minor": 2
}
